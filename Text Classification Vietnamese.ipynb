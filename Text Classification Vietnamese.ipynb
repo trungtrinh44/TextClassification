{
 "cells": [
  {
   "cell_type": "code",
   "execution_count": 96,
   "metadata": {
    "collapsed": true
   },
   "outputs": [],
   "source": [
    "import pandas as pd\n",
    "import seaborn as sns\n",
    "import matplotlib.pyplot as plt\n",
    "%matplotlib inline"
   ]
  },
  {
   "cell_type": "code",
   "execution_count": 2,
   "metadata": {
    "collapsed": true
   },
   "outputs": [],
   "source": [
    "import glob"
   ]
  },
  {
   "cell_type": "code",
   "execution_count": 13,
   "metadata": {
    "collapsed": true
   },
   "outputs": [],
   "source": [
    "articles = pd.DataFrame(columns=['Contents','Type'])"
   ]
  },
  {
   "cell_type": "code",
   "execution_count": 86,
   "metadata": {
    "collapsed": true
   },
   "outputs": [],
   "source": [
    "articles_test = pd.DataFrame(columns=['Contents','Type'])"
   ]
  },
  {
   "cell_type": "code",
   "execution_count": 18,
   "metadata": {},
   "outputs": [],
   "source": [
    "for filename in glob.glob('news_train/**/*.txt'):\n",
    "    parts = filename.split('/')\n",
    "    with open(filename,'rb') as file:\n",
    "        articles = articles.append({'Contents': file.read().decode('utf-16'), 'Type': parts[1]},ignore_index=True)"
   ]
  },
  {
   "cell_type": "code",
   "execution_count": 87,
   "metadata": {},
   "outputs": [],
   "source": [
    "for filename in glob.glob('news_test/**/*.txt'):\n",
    "    parts = filename.split('/')\n",
    "    with open(filename,'rb') as file:\n",
    "        articles_test = articles_test.append({'Contents': file.read().decode('utf-16'), 'Type': parts[1]},ignore_index=True)"
   ]
  },
  {
   "cell_type": "code",
   "execution_count": 27,
   "metadata": {},
   "outputs": [],
   "source": [
    "import regex"
   ]
  },
  {
   "cell_type": "code",
   "execution_count": 47,
   "metadata": {},
   "outputs": [],
   "source": [
    "articles['Contents_no_punc']=articles.Contents.map(lambda x: regex.sub(\"\\p{P}+\", \"\", x))\n",
    "articles['Contents_no_punc_no_number'] = articles.Contents_no_punc.map(lambda x: regex.sub(\"\\d+\",\"\", x))\n",
    "articles['Contents_no_punc_no_number_utf8'] = articles.Contents_no_punc_no_number.map(lambda x: x.encode('utf-8').decode('utf-8'))"
   ]
  },
  {
   "cell_type": "code",
   "execution_count": 88,
   "metadata": {
    "collapsed": true
   },
   "outputs": [],
   "source": [
    "articles_test['Contents_no_punc']=articles_test.Contents.map(lambda x: regex.sub(\"\\p{P}+\", \"\", x))\n",
    "articles_test['Contents_no_punc_no_number'] = articles_test.Contents_no_punc.map(lambda x: regex.sub(\"\\d+\",\"\", x))\n",
    "articles_test['Contents_no_punc_no_number_utf8'] = articles_test.Contents_no_punc_no_number.map(lambda x: x.encode('utf-8').decode('utf-8'))"
   ]
  },
  {
   "cell_type": "code",
   "execution_count": 66,
   "metadata": {},
   "outputs": [],
   "source": [
    "articles[['Contents_no_punc_no_number_utf8','Type']].to_csv('all_news.csv',index=False)"
   ]
  },
  {
   "cell_type": "code",
   "execution_count": 89,
   "metadata": {
    "collapsed": true
   },
   "outputs": [],
   "source": [
    "articles_test[['Contents_no_punc_no_number_utf8','Type']].to_csv('all_news_test.csv',index=False)"
   ]
  },
  {
   "cell_type": "code",
   "execution_count": 67,
   "metadata": {},
   "outputs": [],
   "source": [
    "articles['Tokens'] = articles.Contents_no_punc_no_number_utf8.map(lambda x: x.split())"
   ]
  },
  {
   "cell_type": "code",
   "execution_count": 90,
   "metadata": {
    "collapsed": true
   },
   "outputs": [],
   "source": [
    "articles_test['Tokens']=articles_test.Contents_no_punc_no_number_utf8.map(lambda x: x.split())"
   ]
  },
  {
   "cell_type": "code",
   "execution_count": 91,
   "metadata": {},
   "outputs": [],
   "source": [
    "from sklearn.feature_extraction.text import CountVectorizer, TfidfTransformer\n",
    "from sklearn.linear_model import SGDClassifier\n",
    "from sklearn.pipeline import Pipeline"
   ]
  },
  {
   "cell_type": "code",
   "execution_count": 133,
   "metadata": {
    "collapsed": true
   },
   "outputs": [],
   "source": [
    "text_clf = Pipeline([('count',CountVectorizer()),('tfidf',TfidfTransformer()),('svm',SGDClassifier(loss='hinge'))])"
   ]
  },
  {
   "cell_type": "code",
   "execution_count": 134,
   "metadata": {},
   "outputs": [
    {
     "data": {
      "text/plain": [
       "Pipeline(steps=[('count', CountVectorizer(analyzer='word', binary=False, decode_error='strict',\n",
       "        dtype=<class 'numpy.int64'>, encoding='utf-8', input='content',\n",
       "        lowercase=True, max_df=1.0, max_features=None, min_df=1,\n",
       "        ngram_range=(1, 1), preprocessor=None, stop_words=None,\n",
       "        stri...   penalty='l2', power_t=0.5, random_state=None, shuffle=True,\n",
       "       verbose=0, warm_start=False))])"
      ]
     },
     "execution_count": 134,
     "metadata": {},
     "output_type": "execute_result"
    }
   ],
   "source": [
    "text_clf.fit(X=articles.Contents_no_punc_no_number_utf8, y=articles.Type)"
   ]
  },
  {
   "cell_type": "code",
   "execution_count": 135,
   "metadata": {},
   "outputs": [],
   "source": [
    "pred = text_clf.predict(articles_test.Contents_no_punc_no_number_utf8)"
   ]
  },
  {
   "cell_type": "code",
   "execution_count": 136,
   "metadata": {
    "collapsed": true
   },
   "outputs": [],
   "source": [
    "from sklearn.metrics import classification_report, confusion_matrix"
   ]
  },
  {
   "cell_type": "code",
   "execution_count": 137,
   "metadata": {},
   "outputs": [
    {
     "name": "stdout",
     "output_type": "stream",
     "text": [
      "                      precision    recall  f1-score   support\n",
      "\n",
      "             Am nhac       0.88      0.96      0.92       813\n",
      "             Am thuc       0.96      0.92      0.93       400\n",
      "        Bat dong san       0.95      0.94      0.95       282\n",
      "             Bong da       0.98      1.00      0.99      1464\n",
      "         Chung khoan       0.96      0.97      0.97       320\n",
      "              Cum ga       0.98      0.99      0.98       381\n",
      "    Cuoc song do day       0.71      0.77      0.74       405\n",
      "              Du hoc       0.93      0.95      0.94       394\n",
      "             Du lich       0.92      0.96      0.94       565\n",
      "       Duong vao WTO       0.96      0.83      0.89       191\n",
      "            Gia dinh       0.82      0.57      0.67       280\n",
      "    Giai tri tin hoc       0.81      0.82      0.82       707\n",
      "            Giao duc       0.91      0.88      0.90       707\n",
      "           Gioi tinh       0.83      0.94      0.88       268\n",
      "    Hackers va Virus       0.96      0.92      0.94       319\n",
      "             Hinh su       0.97      0.93      0.95       196\n",
      "     Khong gian song       0.87      0.93      0.90        58\n",
      "  Kinh doanh quoc te       0.87      0.92      0.89       559\n",
      "             Lam dep       0.93      0.95      0.94       735\n",
      "            Loi song       0.78      0.38      0.51       214\n",
      "             Mua sam       0.73      0.67      0.70        84\n",
      "            My thuat       0.94      0.87      0.90       144\n",
      "   San khau dien anh       0.91      0.93      0.92      1030\n",
      "San pham tin hoc moi       0.84      0.88      0.86       595\n",
      "              Tennis       0.99      1.00      0.99       283\n",
      "        The gioi tre       0.80      0.74      0.77       380\n",
      "          Thoi trang       0.82      0.85      0.84       302\n",
      "\n",
      "         avg / total       0.90      0.90      0.90     12076\n",
      "\n"
     ]
    }
   ],
   "source": [
    "print(classification_report(y_true=articles_test.Type,y_pred=pred))"
   ]
  },
  {
   "cell_type": "code",
   "execution_count": 138,
   "metadata": {},
   "outputs": [
    {
     "data": {
      "text/plain": [
       "<matplotlib.axes._subplots.AxesSubplot at 0x7f96d30a1320>"
      ]
     },
     "execution_count": 138,
     "metadata": {},
     "output_type": "execute_result"
    },
    {
     "data": {
      "image/png": "[encoded data removed]",
      "text/plain": [
       "<matplotlib.figure.Figure at 0x7f96d3397358>"
      ]
     },
     "metadata": {},
     "output_type": "display_data"
    }
   ],
   "source": [
    "sns.heatmap(confusion_matrix(articles_test.Type, pred))"
   ]
  },
  {
   "cell_type": "code",
   "execution_count": 99,
   "metadata": {
    "collapsed": true
   },
   "outputs": [],
   "source": [
    "from sklearn.naive_bayes import  MultinomialNB\n",
    "mulNB = Pipeline([('count',CountVectorizer()),('tfidf',TfidfTransformer()),('nb',MultinomialNB())])"
   ]
  },
  {
   "cell_type": "code",
   "execution_count": 100,
   "metadata": {},
   "outputs": [
    {
     "data": {
      "text/plain": [
       "Pipeline(steps=[('count', CountVectorizer(analyzer='word', binary=False, decode_error='strict',\n",
       "        dtype=<class 'numpy.int64'>, encoding='utf-8', input='content',\n",
       "        lowercase=True, max_df=1.0, max_features=None, min_df=1,\n",
       "        ngram_range=(1, 1), preprocessor=None, stop_words=None,\n",
       "        stri...linear_tf=False, use_idf=True)), ('nb', MultinomialNB(alpha=1.0, class_prior=None, fit_prior=True))])"
      ]
     },
     "execution_count": 100,
     "metadata": {},
     "output_type": "execute_result"
    }
   ],
   "source": [
    "mulNB.fit(articles.Contents_no_punc_no_number_utf8,articles.Type)"
   ]
  },
  {
   "cell_type": "code",
   "execution_count": null,
   "metadata": {
    "collapsed": true
   },
   "outputs": [],
   "source": []
  }
 ],
 "metadata": {
  "kernelspec": {
   "display_name": "Python 3",
   "language": "python",
   "name": "python3"
  },
  "language_info": {
   "codemirror_mode": {
    "name": "ipython",
    "version": 3
   },
   "file_extension": ".py",
   "mimetype": "text/x-python",
   "name": "python",
   "nbconvert_exporter": "python",
   "pygments_lexer": "ipython3",
   "version": "3.6.1"
  }
 },
 "nbformat": 4,
 "nbformat_minor": 2
}
