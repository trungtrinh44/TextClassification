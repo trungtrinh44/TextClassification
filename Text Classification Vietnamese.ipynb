{
 "cells": [
  {
   "cell_type": "code",
   "execution_count": 10,
   "metadata": {
    "collapsed": true
   },
   "outputs": [],
   "source": [
    "import pandas as pd\n",
    "import seaborn as sns\n",
    "import matplotlib.pyplot as plt\n",
    "import sys\n",
    "import itertools\n",
    "%matplotlib inline"
   ]
  },
  {
   "cell_type": "code",
   "execution_count": 11,
   "metadata": {
    "collapsed": true
   },
   "outputs": [],
   "source": [
    "import glob"
   ]
  },
  {
   "cell_type": "code",
   "execution_count": 12,
   "metadata": {
    "collapsed": true
   },
   "outputs": [],
   "source": [
    "articles = pd.DataFrame(columns=['Contents','Type'])"
   ]
  },
  {
   "cell_type": "code",
   "execution_count": 14,
   "metadata": {
    "collapsed": true
   },
   "outputs": [],
   "source": [
    "articles_test = pd.DataFrame(columns=['Contents','Type'])"
   ]
  },
  {
   "cell_type": "code",
   "execution_count": 50,
   "metadata": {
    "collapsed": true
   },
   "outputs": [],
   "source": [
    "with open('vietnamese-stopwords.txt', 'r') as my_file:\n",
    "    stopwords = {word.strip() for word in my_file.read().split('\\n')}"
   ]
  },
  {
   "cell_type": "code",
   "execution_count": 51,
   "metadata": {},
   "outputs": [
    {
     "data": {
      "text/plain": [
       "1942"
      ]
     },
     "execution_count": 51,
     "metadata": {},
     "output_type": "execute_result"
    }
   ],
   "source": [
    "len(stopwords)"
   ]
  },
  {
   "cell_type": "code",
   "execution_count": 30,
   "metadata": {
    "collapsed": true
   },
   "outputs": [],
   "source": [
    "for filename in glob.glob('news_train/**/*.txt'):\n",
    "    parts = filename.split('/')\n",
    "    with open(filename,'rb') as file:\n",
    "        articles = articles.append({'Contents': file.read().decode('utf-16'), 'Type': parts[1]},ignore_index=True)"
   ]
  },
  {
   "cell_type": "code",
   "execution_count": 31,
   "metadata": {},
   "outputs": [],
   "source": [
    "for filename in glob.glob('news_test/**/*.txt'):\n",
    "    parts = filename.split('/')\n",
    "    with open(filename,'rb') as file:\n",
    "        articles_test = articles_test.append({'Contents': file.read().decode('utf-16'), 'Type': parts[1]},ignore_index=True)"
   ]
  },
  {
   "cell_type": "code",
   "execution_count": 52,
   "metadata": {
    "collapsed": true
   },
   "outputs": [],
   "source": [
    "from sklearn.feature_extraction.text import CountVectorizer, TfidfTransformer\n",
    "from sklearn.linear_model import SGDClassifier\n",
    "from sklearn.pipeline import Pipeline\n",
    "text_clf = Pipeline([('count',CountVectorizer(stop_words=stopwords, ngram_range=(1,2))),('tfidf',TfidfTransformer()),('svm',SGDClassifier(loss='hinge'))])"
   ]
  },
  {
   "cell_type": "code",
   "execution_count": 53,
   "metadata": {},
   "outputs": [
    {
     "data": {
      "text/plain": [
       "Pipeline(steps=[('count', CountVectorizer(analyzer='word', binary=False, decode_error='strict',\n",
       "        dtype=<class 'numpy.int64'>, encoding='utf-8', input='content',\n",
       "        lowercase=True, max_df=1.0, max_features=None, min_df=1,\n",
       "        ngram_range=(1, 2), preprocessor=None,\n",
       "        stop_words={'nói xa',...   penalty='l2', power_t=0.5, random_state=None, shuffle=True,\n",
       "       verbose=0, warm_start=False))])"
      ]
     },
     "execution_count": 53,
     "metadata": {},
     "output_type": "execute_result"
    }
   ],
   "source": [
    "text_clf.fit(X=articles.Contents, y=articles.Type)"
   ]
  },
  {
   "cell_type": "code",
   "execution_count": 54,
   "metadata": {
    "collapsed": true
   },
   "outputs": [],
   "source": [
    "pred = text_clf.predict(articles_test.Contents)"
   ]
  },
  {
   "cell_type": "code",
   "execution_count": 55,
   "metadata": {
    "collapsed": true
   },
   "outputs": [],
   "source": [
    "from sklearn.metrics import classification_report, confusion_matrix"
   ]
  },
  {
   "cell_type": "code",
   "execution_count": 67,
   "metadata": {},
   "outputs": [
    {
     "name": "stdout",
     "output_type": "stream",
     "text": [
      "                      precision    recall  f1-score   support\n",
      "\n",
      "             Am nhac       0.87      0.97      0.92       813\n",
      "             Am thuc       0.95      0.93      0.94       400\n",
      "        Bat dong san       0.96      0.97      0.97       282\n",
      "             Bong da       0.98      1.00      0.99      1464\n",
      "         Chung khoan       0.96      0.97      0.97       320\n",
      "              Cum ga       0.98      0.99      0.99       381\n",
      "    Cuoc song do day       0.73      0.78      0.75       405\n",
      "              Du hoc       0.94      0.95      0.94       394\n",
      "             Du lich       0.89      0.97      0.93       565\n",
      "       Duong vao WTO       0.93      0.87      0.90       191\n",
      "            Gia dinh       0.84      0.52      0.64       280\n",
      "    Giai tri tin hoc       0.87      0.75      0.80       707\n",
      "            Giao duc       0.87      0.93      0.90       707\n",
      "           Gioi tinh       0.80      0.96      0.87       268\n",
      "    Hackers va Virus       0.95      0.93      0.94       319\n",
      "             Hinh su       0.91      0.91      0.91       196\n",
      "     Khong gian song       0.81      0.93      0.86        58\n",
      "  Kinh doanh quoc te       0.90      0.92      0.91       559\n",
      "             Lam dep       0.92      0.96      0.94       735\n",
      "            Loi song       0.81      0.24      0.37       214\n",
      "             Mua sam       0.77      0.71      0.74        84\n",
      "            My thuat       0.92      0.92      0.92       144\n",
      "   San khau dien anh       0.93      0.93      0.93      1030\n",
      "San pham tin hoc moi       0.79      0.92      0.85       595\n",
      "              Tennis       0.99      1.00      0.99       283\n",
      "        The gioi tre       0.85      0.71      0.77       380\n",
      "          Thoi trang       0.85      0.85      0.85       302\n",
      "\n",
      "         avg / total       0.90      0.90      0.90     12076\n",
      "\n"
     ]
    }
   ],
   "source": [
    "print(classification_report(y_true=articles_test.Type,y_pred=pred))"
   ]
  },
  {
   "cell_type": "code",
   "execution_count": 68,
   "metadata": {},
   "outputs": [
    {
     "data": {
      "text/plain": [
       "<matplotlib.axes._subplots.AxesSubplot at 0x7fd83d556c88>"
      ]
     },
     "execution_count": 68,
     "metadata": {},
     "output_type": "execute_result"
    },
    {
     "data": {
      "image/png": "[encoded data removed]",
      "text/plain": [
       "<matplotlib.figure.Figure at 0x7fd83d4f3cf8>"
      ]
     },
     "metadata": {},
     "output_type": "display_data"
    }
   ],
   "source": [
    "sns.heatmap(confusion_matrix(articles_test.Type, pred))"
   ]
  }
 ],
 "metadata": {
  "kernelspec": {
   "display_name": "Python 3",
   "language": "python",
   "name": "python3"
  },
  "language_info": {
   "codemirror_mode": {
    "name": "ipython",
    "version": 3
   },
   "file_extension": ".py",
   "mimetype": "text/x-python",
   "name": "python",
   "nbconvert_exporter": "python",
   "pygments_lexer": "ipython3",
   "version": "3.6.1"
  }
 },
 "nbformat": 4,
 "nbformat_minor": 2
}
