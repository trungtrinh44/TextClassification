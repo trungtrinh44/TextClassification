{
 "cells": [
  {
   "cell_type": "code",
   "execution_count": 1,
   "metadata": {
    "collapsed": true
   },
   "outputs": [],
   "source": [
    "# Import the 20-news-groups dataset\n",
    "from sklearn.datasets import fetch_20newsgroups\n",
    "train_set = fetch_20newsgroups(subset='train', shuffle=True)"
   ]
  },
  {
   "cell_type": "code",
   "execution_count": 2,
   "metadata": {
    "collapsed": true
   },
   "outputs": [],
   "source": [
    "# Extracting features from text files using the Bag-of-words model\n",
    "from sklearn.feature_extraction.text import CountVectorizer"
   ]
  },
  {
   "cell_type": "code",
   "execution_count": 3,
   "metadata": {
    "collapsed": true
   },
   "outputs": [],
   "source": [
    "# Using TF-IDF\n",
    "from sklearn.feature_extraction.text import TfidfTransformer"
   ]
  },
  {
   "cell_type": "code",
   "execution_count": 4,
   "metadata": {
    "collapsed": true
   },
   "outputs": [],
   "source": [
    "# Using Naive Bayes\n",
    "# For explaination of diferrent variants of NB visit this link\n",
    "# http://blog.datumbox.com/machine-learning-tutorial-the-naive-bayes-text-classifier/\n",
    "from sklearn.naive_bayes import MultinomialNB"
   ]
  },
  {
   "cell_type": "code",
   "execution_count": 5,
   "metadata": {
    "collapsed": true
   },
   "outputs": [],
   "source": [
    "# Create pipeline for text classification using Naive Bayes\n",
    "from sklearn.pipeline import Pipeline\n",
    "text_classification_NB = Pipeline([('vect', CountVectorizer()),\n",
    "                                  ('tfidf',TfidfTransformer()),\n",
    "                                  ('MulNB',MultinomialNB()),])"
   ]
  },
  {
   "cell_type": "code",
   "execution_count": 6,
   "metadata": {},
   "outputs": [
    {
     "data": {
      "text/plain": [
       "Pipeline(steps=[('vect', CountVectorizer(analyzer='word', binary=False, decode_error='strict',\n",
       "        dtype=<class 'numpy.int64'>, encoding='utf-8', input='content',\n",
       "        lowercase=True, max_df=1.0, max_features=None, min_df=1,\n",
       "        ngram_range=(1, 1), preprocessor=None, stop_words=None,\n",
       "        strip...ear_tf=False, use_idf=True)), ('MulNB', MultinomialNB(alpha=1.0, class_prior=None, fit_prior=True))])"
      ]
     },
     "execution_count": 6,
     "metadata": {},
     "output_type": "execute_result"
    }
   ],
   "source": [
    "# Train\n",
    "text_classification_NB.fit(X=train_set.data, y=train_set.target,)"
   ]
  },
  {
   "cell_type": "code",
   "execution_count": 14,
   "metadata": {
    "collapsed": true
   },
   "outputs": [],
   "source": [
    "# Make predictions\n",
    "test_set = fetch_20newsgroups(subset='test', shuffle=True)\n",
    "predictions = text_classification_NB.predict(test_set.data)"
   ]
  },
  {
   "cell_type": "code",
   "execution_count": 12,
   "metadata": {},
   "outputs": [
    {
     "name": "stdout",
     "output_type": "stream",
     "text": [
      "             precision    recall  f1-score   support\n",
      "\n",
      "          0       0.80      0.52      0.63       319\n",
      "          1       0.81      0.65      0.72       389\n",
      "          2       0.82      0.65      0.73       394\n",
      "          3       0.67      0.78      0.72       392\n",
      "          4       0.86      0.77      0.81       385\n",
      "          5       0.89      0.75      0.82       395\n",
      "          6       0.93      0.69      0.80       390\n",
      "          7       0.85      0.92      0.88       396\n",
      "          8       0.94      0.93      0.93       398\n",
      "          9       0.92      0.90      0.91       397\n",
      "         10       0.89      0.97      0.93       399\n",
      "         11       0.59      0.97      0.74       396\n",
      "         12       0.84      0.60      0.70       393\n",
      "         13       0.92      0.74      0.82       396\n",
      "         14       0.84      0.89      0.87       394\n",
      "         15       0.44      0.98      0.61       398\n",
      "         16       0.64      0.94      0.76       364\n",
      "         17       0.93      0.91      0.92       376\n",
      "         18       0.96      0.42      0.58       310\n",
      "         19       0.97      0.14      0.24       251\n",
      "\n",
      "avg / total       0.82      0.77      0.77      7532\n",
      "\n"
     ]
    }
   ],
   "source": [
    "# Measure F1 score\n",
    "from sklearn.metrics import classification_report, confusion_matrix\n",
    "print(classification_report(y_true=test_set.target,y_pred=predictions))"
   ]
  },
  {
   "cell_type": "code",
   "execution_count": 13,
   "metadata": {},
   "outputs": [
    {
     "name": "stderr",
     "output_type": "stream",
     "text": [
      "/home/trung/anaconda3/lib/python3.6/site-packages/matplotlib/font_manager.py:280: UserWarning: Matplotlib is building the font cache using fc-list. This may take a moment.\n",
      "  'Matplotlib is building the font cache using fc-list. '\n"
     ]
    }
   ],
   "source": [
    "import seaborn as sns\n",
    "import matplotlib as plt\n",
    "%matplotlib inline"
   ]
  },
  {
   "cell_type": "code",
   "execution_count": 15,
   "metadata": {},
   "outputs": [
    {
     "data": {
      "text/plain": [
       "<matplotlib.axes._subplots.AxesSubplot at 0x7fa0755a45f8>"
      ]
     },
     "execution_count": 15,
     "metadata": {},
     "output_type": "execute_result"
    },
    {
     "data": {
      "image/png": "[encoded data removed]",
      "text/plain": [
       "<matplotlib.figure.Figure at 0x7fa060444eb8>"
      ]
     },
     "metadata": {},
     "output_type": "display_data"
    }
   ],
   "source": [
    "# Heatmap of confusion matrix\n",
    "sns.heatmap(data=confusion_matrix(y_true=test_set.target,y_pred=predictions))"
   ]
  },
  {
   "cell_type": "code",
   "execution_count": 9,
   "metadata": {},
   "outputs": [
    {
     "data": {
      "text/plain": [
       "Pipeline(steps=[('count', CountVectorizer(analyzer='word', binary=False, decode_error='strict',\n",
       "        dtype=<class 'numpy.int64'>, encoding='utf-8', input='content',\n",
       "        lowercase=True, max_df=1.0, max_features=None, min_df=1,\n",
       "        ngram_range=(1, 1), preprocessor=None, stop_words=None,\n",
       "        stri...   penalty='l2', power_t=0.5, random_state=None, shuffle=True,\n",
       "       verbose=0, warm_start=False))])"
      ]
     },
     "execution_count": 9,
     "metadata": {},
     "output_type": "execute_result"
    }
   ],
   "source": [
    "# Using SVM\n",
    "# We use SGDCClassifier with parameters loss='hinge' as the real SVC will require massive amount of training time.\n",
    "from sklearn.linear_model import SGDClassifier\n",
    "text_classification_SVM = Pipeline([('count',CountVectorizer()),\n",
    "                                    ('tfidf',TfidfTransformer()),\n",
    "                                    ('SGDC', SGDClassifier(loss='hinge'))])\n",
    "text_classification_SVM.fit(X=train_set.data, y=train_set.target)"
   ]
  },
  {
   "cell_type": "code",
   "execution_count": 10,
   "metadata": {},
   "outputs": [],
   "source": [
    "# Make predictions with SVM\n",
    "SVM_predictions = text_classification_SVM.predict(X=test_set.data)"
   ]
  },
  {
   "cell_type": "code",
   "execution_count": 16,
   "metadata": {},
   "outputs": [
    {
     "name": "stdout",
     "output_type": "stream",
     "text": [
      "             precision    recall  f1-score   support\n",
      "\n",
      "          0       0.82      0.78      0.80       319\n",
      "          1       0.75      0.80      0.78       389\n",
      "          2       0.76      0.74      0.75       394\n",
      "          3       0.73      0.74      0.73       392\n",
      "          4       0.83      0.87      0.85       385\n",
      "          5       0.87      0.77      0.82       395\n",
      "          6       0.83      0.91      0.87       390\n",
      "          7       0.92      0.90      0.91       396\n",
      "          8       0.95      0.95      0.95       398\n",
      "          9       0.91      0.95      0.93       397\n",
      "         10       0.95      0.98      0.96       399\n",
      "         11       0.91      0.95      0.93       396\n",
      "         12       0.84      0.76      0.80       393\n",
      "         13       0.89      0.88      0.89       396\n",
      "         14       0.89      0.95      0.92       394\n",
      "         15       0.84      0.92      0.88       398\n",
      "         16       0.73      0.94      0.82       364\n",
      "         17       0.97      0.91      0.94       376\n",
      "         18       0.88      0.60      0.71       310\n",
      "         19       0.74      0.59      0.66       251\n",
      "\n",
      "avg / total       0.85      0.85      0.85      7532\n",
      "\n"
     ]
    },
    {
     "data": {
      "text/plain": [
       "<matplotlib.axes._subplots.AxesSubplot at 0x7fa0600d7f60>"
      ]
     },
     "execution_count": 16,
     "metadata": {},
     "output_type": "execute_result"
    },
    {
     "data": {
      "image/png": "[encoded data removed]",
      "text/plain": [
       "<matplotlib.figure.Figure at 0x7fa0600e3c88>"
      ]
     },
     "metadata": {},
     "output_type": "display_data"
    }
   ],
   "source": [
    "# Measure F1 score\n",
    "print(classification_report(y_true=test_set.target,y_pred=SVM_predictions))\n",
    "sns.heatmap(confusion_matrix(y_true=test_set.target,y_pred=SVM_predictions))"
   ]
  },
  {
   "cell_type": "code",
   "execution_count": null,
   "metadata": {
    "collapsed": true
   },
   "outputs": [],
   "source": []
  }
 ],
 "metadata": {
  "kernelspec": {
   "display_name": "Python 3",
   "language": "python",
   "name": "python3"
  },
  "language_info": {
   "codemirror_mode": {
    "name": "ipython",
    "version": 3
   },
   "file_extension": ".py",
   "mimetype": "text/x-python",
   "name": "python",
   "nbconvert_exporter": "python",
   "pygments_lexer": "ipython3",
   "version": "3.6.1"
  }
 },
 "nbformat": 4,
 "nbformat_minor": 2
}
